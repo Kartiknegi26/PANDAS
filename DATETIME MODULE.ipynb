{
 "cells": [
  {
   "cell_type": "code",
   "execution_count": null,
   "id": "8540a715",
   "metadata": {},
   "outputs": [],
   "source": [
    "import pandas as pd\n",
    "import numpy as np\n",
    "import datetime as dt"
   ]
  },
  {
   "cell_type": "code",
   "execution_count": 1,
   "id": "1b4d03a9",
   "metadata": {},
   "outputs": [
    {
     "ename": "NameError",
     "evalue": "name 'dt' is not defined",
     "output_type": "error",
     "traceback": [
      "\u001b[1;31m---------------------------------------------------------------------------\u001b[0m",
      "\u001b[1;31mNameError\u001b[0m                                 Traceback (most recent call last)",
      "\u001b[1;32m~\\AppData\\Local\\Temp/ipykernel_2220/4081005838.py\u001b[0m in \u001b[0;36m<module>\u001b[1;34m\u001b[0m\n\u001b[1;32m----> 1\u001b[1;33m \u001b[0mtoday\u001b[0m \u001b[1;33m=\u001b[0m \u001b[0mdt\u001b[0m\u001b[1;33m.\u001b[0m\u001b[0mdatetime\u001b[0m\u001b[1;33m(\u001b[0m\u001b[1;36m2019\u001b[0m\u001b[1;33m,\u001b[0m \u001b[1;36m12\u001b[0m\u001b[1;33m,\u001b[0m \u001b[1;36m22\u001b[0m\u001b[1;33m,\u001b[0m \u001b[1;36m17\u001b[0m \u001b[1;33m,\u001b[0m \u001b[1;36m13\u001b[0m\u001b[1;33m,\u001b[0m\u001b[1;36m34\u001b[0m\u001b[1;33m)\u001b[0m\u001b[1;33m\u001b[0m\u001b[1;33m\u001b[0m\u001b[0m\n\u001b[0m",
      "\u001b[1;31mNameError\u001b[0m: name 'dt' is not defined"
     ]
    }
   ],
   "source": [
    " today = dt.datetime(2019, 12, 22, 17 , 13,34)"
   ]
  },
  {
   "cell_type": "code",
   "execution_count": 12,
   "id": "afcf12c6",
   "metadata": {},
   "outputs": [
    {
     "name": "stdout",
     "output_type": "stream",
     "text": [
      "2019-12-22 17:13:34\n"
     ]
    }
   ],
   "source": [
    "print(today)"
   ]
  },
  {
   "cell_type": "code",
   "execution_count": 13,
   "id": "a9e1e690",
   "metadata": {},
   "outputs": [
    {
     "data": {
      "text/plain": [
       "17"
      ]
     },
     "execution_count": 13,
     "metadata": {},
     "output_type": "execute_result"
    }
   ],
   "source": [
    "today.hour"
   ]
  },
  {
   "cell_type": "code",
   "execution_count": 14,
   "id": "ac52ccb3",
   "metadata": {},
   "outputs": [
    {
     "data": {
      "text/plain": [
       "13"
      ]
     },
     "execution_count": 14,
     "metadata": {},
     "output_type": "execute_result"
    }
   ],
   "source": [
    "today.minute"
   ]
  },
  {
   "cell_type": "code",
   "execution_count": 15,
   "id": "70a1bce5",
   "metadata": {},
   "outputs": [
    {
     "data": {
      "text/plain": [
       "34"
      ]
     },
     "execution_count": 15,
     "metadata": {},
     "output_type": "execute_result"
    }
   ],
   "source": [
    "today.second"
   ]
  },
  {
   "cell_type": "code",
   "execution_count": null,
   "id": "2d7faf96",
   "metadata": {},
   "outputs": [],
   "source": [
    "today = dt.datetime(2019, 12, 22, 17 , 13,34)"
   ]
  },
  {
   "cell_type": "markdown",
   "id": "cffe7c61",
   "metadata": {},
   "source": [
    "### Timestamp"
   ]
  },
  {
   "cell_type": "code",
   "execution_count": 17,
   "id": "8b000258",
   "metadata": {},
   "outputs": [
    {
     "data": {
      "text/plain": [
       "Timestamp('2019-12-22 00:00:00')"
      ]
     },
     "execution_count": 17,
     "metadata": {},
     "output_type": "execute_result"
    }
   ],
   "source": [
    "pd.Timestamp(\"2019-12-22\")\n",
    "pd.Timestamp(\"2019/12/22\")\n",
    "pd.Timestamp(\"2019, 12 , 22\") #will show midnight hours as well"
   ]
  },
  {
   "cell_type": "code",
   "execution_count": 18,
   "id": "9192882c",
   "metadata": {},
   "outputs": [
    {
     "data": {
      "text/plain": [
       "Timestamp('2019-12-22 05:23:45')"
      ]
     },
     "execution_count": 18,
     "metadata": {},
     "output_type": "execute_result"
    }
   ],
   "source": [
    "pd.Timestamp(\"2019-12-22 5:23:45 AM\")"
   ]
  },
  {
   "cell_type": "code",
   "execution_count": 19,
   "id": "a0cfb4bf",
   "metadata": {},
   "outputs": [
    {
     "data": {
      "text/plain": [
       "Timestamp('2019-12-22 17:23:45')"
      ]
     },
     "execution_count": 19,
     "metadata": {},
     "output_type": "execute_result"
    }
   ],
   "source": [
    "pd.Timestamp(\"2019-12-22 5:23:45 PM\")"
   ]
  },
  {
   "cell_type": "code",
   "execution_count": 20,
   "id": "d7af649f",
   "metadata": {},
   "outputs": [],
   "source": [
    "dates = [\"2019/12/22\",\"2019/12/23\",\"2019/12/24\"]"
   ]
  },
  {
   "cell_type": "code",
   "execution_count": 21,
   "id": "229916d8",
   "metadata": {},
   "outputs": [
    {
     "data": {
      "text/plain": [
       "['2019/12/22', '2019/12/23', '2019/12/24']"
      ]
     },
     "execution_count": 21,
     "metadata": {},
     "output_type": "execute_result"
    }
   ],
   "source": [
    "dates"
   ]
  },
  {
   "cell_type": "code",
   "execution_count": 29,
   "id": "6f7fae67",
   "metadata": {},
   "outputs": [],
   "source": [
    "dates1 = pd.DatetimeIndex(dates)"
   ]
  },
  {
   "cell_type": "code",
   "execution_count": 25,
   "id": "77fc192e",
   "metadata": {},
   "outputs": [
    {
     "data": {
      "text/plain": [
       "list"
      ]
     },
     "execution_count": 25,
     "metadata": {},
     "output_type": "execute_result"
    }
   ],
   "source": [
    "type(dates)"
   ]
  },
  {
   "cell_type": "code",
   "execution_count": 26,
   "id": "b683d1c4",
   "metadata": {},
   "outputs": [],
   "source": [
    "dates = [dt.date(2019, 12, 22), dt.date(2019,12,21),dt.date(2019, 12, 15)] #useless"
   ]
  },
  {
   "cell_type": "code",
   "execution_count": 27,
   "id": "42c18d2b",
   "metadata": {},
   "outputs": [
    {
     "data": {
      "text/plain": [
       "[datetime.date(2019, 12, 22),\n",
       " datetime.date(2019, 12, 21),\n",
       " datetime.date(2019, 12, 15)]"
      ]
     },
     "execution_count": 27,
     "metadata": {},
     "output_type": "execute_result"
    }
   ],
   "source": [
    "dates"
   ]
  },
  {
   "cell_type": "code",
   "execution_count": 30,
   "id": "c7e60b7b",
   "metadata": {},
   "outputs": [],
   "source": [
    "values = [12,34,56]"
   ]
  },
  {
   "cell_type": "code",
   "execution_count": 31,
   "id": "66b69d1b",
   "metadata": {},
   "outputs": [
    {
     "data": {
      "text/plain": [
       "2019-12-22    12\n",
       "2019-12-21    34\n",
       "2019-12-15    56\n",
       "dtype: int64"
      ]
     },
     "execution_count": 31,
     "metadata": {},
     "output_type": "execute_result"
    }
   ],
   "source": [
    "pd.Series(values,index = dates1)"
   ]
  },
  {
   "cell_type": "markdown",
   "id": "bd379c8f",
   "metadata": {},
   "source": [
    "# pd.to_datetime"
   ]
  },
  {
   "cell_type": "code",
   "execution_count": 33,
   "id": "d23b3402",
   "metadata": {},
   "outputs": [
    {
     "data": {
      "text/plain": [
       "Timestamp('2019-12-22 00:00:00')"
      ]
     },
     "execution_count": 33,
     "metadata": {},
     "output_type": "execute_result"
    }
   ],
   "source": [
    "pd.to_datetime(\"2019/12/22\")"
   ]
  },
  {
   "cell_type": "code",
   "execution_count": 35,
   "id": "072c654d",
   "metadata": {},
   "outputs": [
    {
     "data": {
      "text/plain": [
       "DatetimeIndex(['2019-12-22', '2019-12-23', '2019-12-24'], dtype='datetime64[ns]', freq=None)"
      ]
     },
     "execution_count": 35,
     "metadata": {},
     "output_type": "execute_result"
    }
   ],
   "source": [
    "pd.to_datetime([\"2019/12/22\",\"2019/12/23\",\"2019/12/24\"])"
   ]
  },
  {
   "cell_type": "code",
   "execution_count": 36,
   "id": "26ce0f45",
   "metadata": {},
   "outputs": [],
   "source": [
    "dates = pd.Series([\"December 22nd , 2019\",\"23rd December 2000\"])"
   ]
  },
  {
   "cell_type": "code",
   "execution_count": 37,
   "id": "fca2710f",
   "metadata": {},
   "outputs": [
    {
     "data": {
      "text/plain": [
       "0   2019-12-22\n",
       "1   2000-12-23\n",
       "dtype: datetime64[ns]"
      ]
     },
     "execution_count": 37,
     "metadata": {},
     "output_type": "execute_result"
    }
   ],
   "source": [
    "pd.to_datetime(dates)"
   ]
  },
  {
   "cell_type": "markdown",
   "id": "de2ed21c",
   "metadata": {},
   "source": [
    "# CREATE RANGE in the form of Date pd.date_range()"
   ]
  },
  {
   "cell_type": "code",
   "execution_count": 41,
   "id": "83c1d45f",
   "metadata": {},
   "outputs": [],
   "source": [
    "times = pd.date_range(start = \"2000/6/3\", end = \"2000/6/15\")"
   ]
  },
  {
   "cell_type": "code",
   "execution_count": 42,
   "id": "68b26712",
   "metadata": {},
   "outputs": [
    {
     "data": {
      "text/plain": [
       "DatetimeIndex(['2000-06-03', '2000-06-04', '2000-06-05', '2000-06-06',\n",
       "               '2000-06-07', '2000-06-08', '2000-06-09', '2000-06-10',\n",
       "               '2000-06-11', '2000-06-12', '2000-06-13', '2000-06-14',\n",
       "               '2000-06-15'],\n",
       "              dtype='datetime64[ns]', freq='D')"
      ]
     },
     "execution_count": 42,
     "metadata": {},
     "output_type": "execute_result"
    }
   ],
   "source": [
    "times"
   ]
  },
  {
   "cell_type": "code",
   "execution_count": 44,
   "id": "c1988f10",
   "metadata": {},
   "outputs": [],
   "source": [
    "from datetime import date #this is the date class"
   ]
  },
  {
   "cell_type": "code",
   "execution_count": 46,
   "id": "b196cb2f",
   "metadata": {},
   "outputs": [
    {
     "data": {
      "text/plain": [
       "datetime.date(2022, 3, 1)"
      ]
     },
     "execution_count": 46,
     "metadata": {},
     "output_type": "execute_result"
    }
   ],
   "source": [
    "date.today()"
   ]
  },
  {
   "cell_type": "code",
   "execution_count": 53,
   "id": "133e1e38",
   "metadata": {},
   "outputs": [
    {
     "data": {
      "text/plain": [
       "datetime.datetime(2022, 3, 1, 0, 0)"
      ]
     },
     "execution_count": 53,
     "metadata": {},
     "output_type": "execute_result"
    }
   ],
   "source": [
    "dt.datetime(2022,3,1)"
   ]
  },
  {
   "cell_type": "code",
   "execution_count": 56,
   "id": "40007f05",
   "metadata": {},
   "outputs": [
    {
     "data": {
      "text/plain": [
       "datetime.time(0, 0)"
      ]
     },
     "execution_count": 56,
     "metadata": {},
     "output_type": "execute_result"
    }
   ],
   "source": [
    "dt.time()"
   ]
  },
  {
   "cell_type": "code",
   "execution_count": 13,
   "id": "bee309bd",
   "metadata": {},
   "outputs": [],
   "source": [
    "x = pd.date_range(\"10/1/2021\",periods = 12)"
   ]
  },
  {
   "cell_type": "code",
   "execution_count": 14,
   "id": "e7dfdbc1",
   "metadata": {},
   "outputs": [
    {
     "data": {
      "text/plain": [
       "DatetimeIndex(['2021-10-01', '2021-10-02', '2021-10-03', '2021-10-04',\n",
       "               '2021-10-05', '2021-10-06', '2021-10-07', '2021-10-08',\n",
       "               '2021-10-09', '2021-10-10', '2021-10-11', '2021-10-12'],\n",
       "              dtype='datetime64[ns]', freq='D')"
      ]
     },
     "execution_count": 14,
     "metadata": {},
     "output_type": "execute_result"
    }
   ],
   "source": [
    "x"
   ]
  },
  {
   "cell_type": "code",
   "execution_count": 10,
   "id": "550d963e",
   "metadata": {},
   "outputs": [],
   "source": [
    "from datetime import datetime as dt"
   ]
  },
  {
   "cell_type": "code",
   "execution_count": 17,
   "id": "5ee46257",
   "metadata": {},
   "outputs": [],
   "source": [
    "d = dt.today()"
   ]
  },
  {
   "cell_type": "code",
   "execution_count": 19,
   "id": "12185710",
   "metadata": {},
   "outputs": [
    {
     "data": {
      "text/plain": [
       "3"
      ]
     },
     "execution_count": 19,
     "metadata": {},
     "output_type": "execute_result"
    }
   ],
   "source": [
    "d.month"
   ]
  },
  {
   "cell_type": "code",
   "execution_count": 20,
   "id": "14c626fe",
   "metadata": {},
   "outputs": [
    {
     "data": {
      "text/plain": [
       "2022"
      ]
     },
     "execution_count": 20,
     "metadata": {},
     "output_type": "execute_result"
    }
   ],
   "source": [
    "d.year"
   ]
  },
  {
   "cell_type": "code",
   "execution_count": 24,
   "id": "c4b85ab0",
   "metadata": {},
   "outputs": [
    {
     "data": {
      "text/plain": [
       "datetime.datetime(2022, 3, 3, 12, 23, 26, 159475)"
      ]
     },
     "execution_count": 24,
     "metadata": {},
     "output_type": "execute_result"
    }
   ],
   "source": [
    "dt.now()"
   ]
  },
  {
   "cell_type": "code",
   "execution_count": null,
   "id": "2190f0ba",
   "metadata": {},
   "outputs": [],
   "source": []
  }
 ],
 "metadata": {
  "kernelspec": {
   "display_name": "Python 3 (ipykernel)",
   "language": "python",
   "name": "python3"
  },
  "language_info": {
   "codemirror_mode": {
    "name": "ipython",
    "version": 3
   },
   "file_extension": ".py",
   "mimetype": "text/x-python",
   "name": "python",
   "nbconvert_exporter": "python",
   "pygments_lexer": "ipython3",
   "version": "3.9.7"
  }
 },
 "nbformat": 4,
 "nbformat_minor": 5
}
